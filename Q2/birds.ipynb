{
 "cells": [
  {
   "cell_type": "markdown",
   "id": "dcdffa92-593f-4876-be7d-c7eb1244053c",
   "metadata": {},
   "source": [
    "# **Q2 (bonus): Birds**"
   ]
  },
  {
   "cell_type": "markdown",
   "id": "5e0e1489-54c6-45fd-9ad6-3385dabf04d3",
   "metadata": {},
   "source": [
    "In 2015 the idea of creating a computer system that could recognise birds was considered so outrageously challenging that it was the basis of [this XKCD joke](https://xkcd.com/1425/):"
   ]
  },
  {
   "cell_type": "markdown",
   "id": "6f180fa6-e3b3-4d23-8f27-64b28c11f580",
   "metadata": {},
   "source": [
    "![](birds.png)"
   ]
  },
  {
   "cell_type": "markdown",
   "id": "52268290-7649-485d-b070-c6bd6ab807b4",
   "metadata": {},
   "source": [
    "We will be creating our very own bird classifier in this assignment, applying what we learned in the previous part. We will also directly use the code from the previous part."
   ]
  },
  {
   "cell_type": "markdown",
   "id": "d8ceefee-5370-44b4-9488-45db41e94c92",
   "metadata": {},
   "source": [
    "## Dataset"
   ]
  },
  {
   "cell_type": "markdown",
   "id": "e792bb1d-5e3f-4b90-8dbd-1a13011e1932",
   "metadata": {},
   "source": [
    "You can download the dataset from the link: [here](https://owncloud.iitd.ac.in/nextcloud/index.php/s/ZTkn9FCo2z8Yq8D)"
   ]
  },
  {
   "cell_type": "markdown",
   "id": "8b87f39f-ccc5-4c45-ab02-ea2de25847f8",
   "metadata": {},
   "source": [
    "## Training"
   ]
  },
  {
   "cell_type": "markdown",
   "id": "dcd6390b-8588-4efa-a21a-7d609f5cf2eb",
   "metadata": {},
   "source": [
    "Use the `DeepConvnet` that you implemented in the previous part and the training loop to train the bird classifer"
   ]
  },
  {
   "cell_type": "code",
   "execution_count": 14,
   "id": "b3f88489-bc04-405d-903c-cab595cf45fe",
   "metadata": {},
   "outputs": [],
   "source": [
    "####################################################################\n",
    "# TODO: Train the model                                            #\n",
    "####################################################################\n",
    "# Replace \"pass\" statement with your code\n",
    "pass\n",
    "#####################################################################\n",
    "#                          END OF YOUR CODE                         #\n",
    "#####################################################################"
   ]
  },
  {
   "cell_type": "markdown",
   "id": "10d88c53-c3cc-4594-9b13-4e77ec9b9529",
   "metadata": {},
   "source": [
    "## Evaluation"
   ]
  },
  {
   "cell_type": "markdown",
   "id": "9ed02504-387d-409e-9094-587b26368768",
   "metadata": {},
   "source": [
    "* Evaluate the model on unseen test images using accuracy, precision, recall, and F1-score.\n",
    "* Provide a detailed analysis of the model’s performance on different classes, highlighting areas where the model struggles and suggesting potential improvements."
   ]
  },
  {
   "cell_type": "markdown",
   "id": "17b9cec0-143e-4922-b912-ce335bfc4071",
   "metadata": {},
   "source": [
    "Write your analysis below"
   ]
  },
  {
   "cell_type": "code",
   "execution_count": null,
   "id": "d55b21bb-27a4-42f2-b741-90a4bb577ff9",
   "metadata": {},
   "outputs": [],
   "source": []
  },
  {
   "cell_type": "markdown",
   "id": "a33afd86-07b7-4e13-9e7c-d28d99cd189c",
   "metadata": {},
   "source": [
    "## Visualization and Analysis"
   ]
  },
  {
   "cell_type": "markdown",
   "id": "e0de4b64-507d-4c16-bf74-fdcb80918e2b",
   "metadata": {},
   "source": [
    "In this part we will implement two visualization tools to understand the features learned by the network:"
   ]
  },
  {
   "cell_type": "markdown",
   "id": "38f62a35-1ae0-4437-ac3f-1912edd87e8b",
   "metadata": {},
   "source": [
    "### Activation Maps"
   ]
  },
  {
   "cell_type": "markdown",
   "id": "34aaff18-3eff-46bf-8ac7-368cecff3afa",
   "metadata": {},
   "source": [
    "1. Hook into the network to capture the activation maps after each convolutional layer.\n",
    "\n",
    "2. Plot these activation maps to visualize which features are being detected at different layers."
   ]
  },
  {
   "cell_type": "code",
   "execution_count": 15,
   "id": "cd424fb5-0aea-449d-a7c6-eb3c76625b12",
   "metadata": {},
   "outputs": [],
   "source": [
    "####################################################################\n",
    "# TODO: Visualize activation maps.                                 #\n",
    "####################################################################\n",
    "# Replace \"pass\" statement with your code\n",
    "pass\n",
    "#####################################################################\n",
    "#                          END OF YOUR CODE                         #\n",
    "#####################################################################"
   ]
  },
  {
   "cell_type": "markdown",
   "id": "2ee999b0-4f66-4e0c-9a80-8fb3a1541d77",
   "metadata": {},
   "source": [
    "### Grad-CAM"
   ]
  },
  {
   "cell_type": "markdown",
   "id": "22232d7f-8942-495c-a18f-9c01545c51ab",
   "metadata": {},
   "source": [
    "In this sub-part we’ll use Grad-CAM for producing visual explanations from our above built models. Grad-CAM computes the gradient of input feature map with respect to the specified output class. Higher the gradient value at particular position indicates it’s importance for predicting particular class. For more information please read Grad-CAM paper[9]. For this assignment use the Grad-CAM’s implementation from this package.\n",
    "\n",
    "* Consider following 7 classes for visualization: __Cattle Egret, Coppersmith Barbet, Indian Peacock, Red Wattled Lapwing, Ruddy Shelduck, White Breasted Kingfisher, White Breasted Waterhen__. Use the best performing model from all the variants trained above, visualize the gradient maps (superimposed on image) of 5 correctly and 5 incorrectly classified images for each of the above class from the validation set. Gradient needs to be computed with respect to the correct class and for the output feature map from last 2n layers (where feature map size is 64x64). These gradient maps need to be mean aggregated to give final 64x64 gradient map. The given package does all of these by default and you just need to mention the model layers."
   ]
  },
  {
   "cell_type": "code",
   "execution_count": 16,
   "id": "dd38eebe-6b66-45ed-b8c8-575dbf82bd7e",
   "metadata": {},
   "outputs": [],
   "source": [
    "####################################################################\n",
    "# TODO: Use Grad-CAM.                                              #\n",
    "####################################################################\n",
    "# Replace \"pass\" statement with your code\n",
    "pass\n",
    "#####################################################################\n",
    "#                          END OF YOUR CODE                         #\n",
    "#####################################################################"
   ]
  },
  {
   "cell_type": "markdown",
   "id": "46edeccf-cc72-4ef1-9ced-590b2ff59955",
   "metadata": {},
   "source": [
    "* Analyse the gradient maps and report your observations"
   ]
  },
  {
   "cell_type": "code",
   "execution_count": null,
   "id": "1caa6e2e-9313-44c9-9b56-51686ce0b535",
   "metadata": {},
   "outputs": [],
   "source": []
  },
  {
   "cell_type": "markdown",
   "id": "2e332c4f-fdab-40bb-9af7-f47b3b16c9ef",
   "metadata": {},
   "source": [
    "## Best Model"
   ]
  },
  {
   "cell_type": "markdown",
   "id": "f43e7116-c132-4645-a911-05d29905754f",
   "metadata": {},
   "source": [
    "You are free to use any structures like ResNet50, VGGNet, Inception Net or a custom architecture of your choice. You can use inbuilt pytorch modules for the same. Report Accuracy, Precision, Recall and F1 Scores."
   ]
  },
  {
   "cell_type": "code",
   "execution_count": 17,
   "id": "36409fb2-6066-49b1-9241-ea7d02dcc860",
   "metadata": {},
   "outputs": [],
   "source": [
    "####################################################################\n",
    "# TODO: Train the best model.                                      #\n",
    "####################################################################\n",
    "# Replace \"pass\" statement with your code\n",
    "pass\n",
    "#####################################################################\n",
    "#                          END OF YOUR CODE                         #\n",
    "#####################################################################"
   ]
  }
 ],
 "metadata": {
  "kernelspec": {
   "display_name": "Python 3 (ipykernel)",
   "language": "python",
   "name": "python3"
  },
  "language_info": {
   "codemirror_mode": {
    "name": "ipython",
    "version": 3
   },
   "file_extension": ".py",
   "mimetype": "text/x-python",
   "name": "python",
   "nbconvert_exporter": "python",
   "pygments_lexer": "ipython3",
   "version": "3.7.11"
  }
 },
 "nbformat": 4,
 "nbformat_minor": 5
}
